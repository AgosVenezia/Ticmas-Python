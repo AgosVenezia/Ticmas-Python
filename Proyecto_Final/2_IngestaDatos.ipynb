{
 "cells": [
  {
   "cell_type": "code",
   "execution_count": 1,
   "id": "42ad277e",
   "metadata": {},
   "outputs": [],
   "source": [
    "#Importar la librería necesaria para la realización del desafío y el dataset elegido para la entrega final.\n",
    "import pandas as pd\n",
    "\n",
    "df = pd.read_csv(\"F:/Descargas/Cursos/VSC_PROYECTOS/TicmasPython/Proyecto_Final/2_LigaArgentinaFutbol.csv\", sep = \",\")"
   ]
  },
  {
   "cell_type": "code",
   "execution_count": 2,
   "id": "766ccc3e",
   "metadata": {},
   "outputs": [
    {
     "data": {
      "text/html": [
       "<div>\n",
       "<style scoped>\n",
       "    .dataframe tbody tr th:only-of-type {\n",
       "        vertical-align: middle;\n",
       "    }\n",
       "\n",
       "    .dataframe tbody tr th {\n",
       "        vertical-align: top;\n",
       "    }\n",
       "\n",
       "    .dataframe thead th {\n",
       "        text-align: right;\n",
       "    }\n",
       "</style>\n",
       "<table border=\"1\" class=\"dataframe\">\n",
       "  <thead>\n",
       "    <tr style=\"text-align: right;\">\n",
       "      <th></th>\n",
       "      <th>Unnamed: 0</th>\n",
       "      <th>date_name</th>\n",
       "      <th>local_team_id</th>\n",
       "      <th>local_team</th>\n",
       "      <th>local_result</th>\n",
       "      <th>visitor_result</th>\n",
       "      <th>visitor_team</th>\n",
       "      <th>visitor_team_id</th>\n",
       "    </tr>\n",
       "  </thead>\n",
       "  <tbody>\n",
       "    <tr>\n",
       "      <th>0</th>\n",
       "      <td>0</td>\n",
       "      <td>Nacional 1976 - Grupo C</td>\n",
       "      <td>1</td>\n",
       "      <td>All Boys</td>\n",
       "      <td>2</td>\n",
       "      <td>0</td>\n",
       "      <td>Aldosivi</td>\n",
       "      <td>0</td>\n",
       "    </tr>\n",
       "    <tr>\n",
       "      <th>1</th>\n",
       "      <td>1</td>\n",
       "      <td>Nacional 1976 - Grupo C</td>\n",
       "      <td>0</td>\n",
       "      <td>Aldosivi</td>\n",
       "      <td>4</td>\n",
       "      <td>0</td>\n",
       "      <td>All Boys</td>\n",
       "      <td>1</td>\n",
       "    </tr>\n",
       "    <tr>\n",
       "      <th>2</th>\n",
       "      <td>2</td>\n",
       "      <td>Superliga 2019/20 - Fecha 2</td>\n",
       "      <td>0</td>\n",
       "      <td>Aldosivi</td>\n",
       "      <td>0</td>\n",
       "      <td>0</td>\n",
       "      <td>Argentinos</td>\n",
       "      <td>7</td>\n",
       "    </tr>\n",
       "    <tr>\n",
       "      <th>3</th>\n",
       "      <td>3</td>\n",
       "      <td>Superliga 2018/19 - Fecha 15</td>\n",
       "      <td>7</td>\n",
       "      <td>Argentinos</td>\n",
       "      <td>1</td>\n",
       "      <td>2</td>\n",
       "      <td>Aldosivi</td>\n",
       "      <td>0</td>\n",
       "    </tr>\n",
       "    <tr>\n",
       "      <th>4</th>\n",
       "      <td>4</td>\n",
       "      <td>Torneo 2016 - Fecha 2</td>\n",
       "      <td>0</td>\n",
       "      <td>Aldosivi</td>\n",
       "      <td>3</td>\n",
       "      <td>2</td>\n",
       "      <td>Argentinos</td>\n",
       "      <td>7</td>\n",
       "    </tr>\n",
       "  </tbody>\n",
       "</table>\n",
       "</div>"
      ],
      "text/plain": [
       "   Unnamed: 0                     date_name  local_team_id  local_team  \\\n",
       "0           0       Nacional 1976 - Grupo C              1    All Boys   \n",
       "1           1       Nacional 1976 - Grupo C              0    Aldosivi   \n",
       "2           2   Superliga 2019/20 - Fecha 2              0    Aldosivi   \n",
       "3           3  Superliga 2018/19 - Fecha 15              7  Argentinos   \n",
       "4           4         Torneo 2016 - Fecha 2              0    Aldosivi   \n",
       "\n",
       "   local_result  visitor_result visitor_team  visitor_team_id  \n",
       "0             2               0     Aldosivi                0  \n",
       "1             4               0     All Boys                1  \n",
       "2             0               0   Argentinos                7  \n",
       "3             1               2     Aldosivi                0  \n",
       "4             3               2   Argentinos                7  "
      ]
     },
     "execution_count": 2,
     "metadata": {},
     "output_type": "execute_result"
    }
   ],
   "source": [
    "#Imprimir las 5 primeras filas.\n",
    "df.head()"
   ]
  },
  {
   "cell_type": "code",
   "execution_count": 3,
   "id": "1e2c4e33",
   "metadata": {},
   "outputs": [
    {
     "data": {
      "text/html": [
       "<div>\n",
       "<style scoped>\n",
       "    .dataframe tbody tr th:only-of-type {\n",
       "        vertical-align: middle;\n",
       "    }\n",
       "\n",
       "    .dataframe tbody tr th {\n",
       "        vertical-align: top;\n",
       "    }\n",
       "\n",
       "    .dataframe thead th {\n",
       "        text-align: right;\n",
       "    }\n",
       "</style>\n",
       "<table border=\"1\" class=\"dataframe\">\n",
       "  <thead>\n",
       "    <tr style=\"text-align: right;\">\n",
       "      <th></th>\n",
       "      <th>Unnamed: 0</th>\n",
       "      <th>date_name</th>\n",
       "      <th>local_team_id</th>\n",
       "      <th>local_team</th>\n",
       "      <th>local_result</th>\n",
       "      <th>visitor_result</th>\n",
       "      <th>visitor_team</th>\n",
       "      <th>visitor_team_id</th>\n",
       "    </tr>\n",
       "  </thead>\n",
       "  <tbody>\n",
       "    <tr>\n",
       "      <th>32849</th>\n",
       "      <td>32849</td>\n",
       "      <td>Nacional 1976 - Grupo C</td>\n",
       "      <td>93</td>\n",
       "      <td>Union</td>\n",
       "      <td>1</td>\n",
       "      <td>0</td>\n",
       "      <td>Velez</td>\n",
       "      <td>94</td>\n",
       "    </tr>\n",
       "    <tr>\n",
       "      <th>32850</th>\n",
       "      <td>32850</td>\n",
       "      <td>Metropolitano 1975 - Fecha 36</td>\n",
       "      <td>94</td>\n",
       "      <td>Velez</td>\n",
       "      <td>0</td>\n",
       "      <td>0</td>\n",
       "      <td>Union</td>\n",
       "      <td>93</td>\n",
       "    </tr>\n",
       "    <tr>\n",
       "      <th>32851</th>\n",
       "      <td>32851</td>\n",
       "      <td>Metropolitano 1975 - Fecha 17</td>\n",
       "      <td>93</td>\n",
       "      <td>Union</td>\n",
       "      <td>1</td>\n",
       "      <td>0</td>\n",
       "      <td>Velez</td>\n",
       "      <td>94</td>\n",
       "    </tr>\n",
       "    <tr>\n",
       "      <th>32852</th>\n",
       "      <td>32852</td>\n",
       "      <td>Metropolitano 1970 - Fecha 16</td>\n",
       "      <td>93</td>\n",
       "      <td>Union</td>\n",
       "      <td>1</td>\n",
       "      <td>1</td>\n",
       "      <td>Velez</td>\n",
       "      <td>94</td>\n",
       "    </tr>\n",
       "    <tr>\n",
       "      <th>32853</th>\n",
       "      <td>32853</td>\n",
       "      <td>Nacional 1969 - Fecha 7</td>\n",
       "      <td>93</td>\n",
       "      <td>Union</td>\n",
       "      <td>0</td>\n",
       "      <td>0</td>\n",
       "      <td>Velez</td>\n",
       "      <td>94</td>\n",
       "    </tr>\n",
       "  </tbody>\n",
       "</table>\n",
       "</div>"
      ],
      "text/plain": [
       "       Unnamed: 0                      date_name  local_team_id local_team  \\\n",
       "32849       32849        Nacional 1976 - Grupo C             93      Union   \n",
       "32850       32850  Metropolitano 1975 - Fecha 36             94      Velez   \n",
       "32851       32851  Metropolitano 1975 - Fecha 17             93      Union   \n",
       "32852       32852  Metropolitano 1970 - Fecha 16             93      Union   \n",
       "32853       32853        Nacional 1969 - Fecha 7             93      Union   \n",
       "\n",
       "       local_result  visitor_result visitor_team  visitor_team_id  \n",
       "32849             1               0        Velez               94  \n",
       "32850             0               0        Union               93  \n",
       "32851             1               0        Velez               94  \n",
       "32852             1               1        Velez               94  \n",
       "32853             0               0        Velez               94  "
      ]
     },
     "execution_count": 3,
     "metadata": {},
     "output_type": "execute_result"
    }
   ],
   "source": [
    "#Imprimir las 5 últimas filas.\n",
    "df.tail()"
   ]
  },
  {
   "cell_type": "code",
   "execution_count": 4,
   "id": "4535ddd8",
   "metadata": {},
   "outputs": [
    {
     "name": "stdout",
     "output_type": "stream",
     "text": [
      "(32854, 8)\n"
     ]
    }
   ],
   "source": [
    "#Imprimir las dimensiones del dataset.\n",
    "print(df.shape)"
   ]
  },
  {
   "cell_type": "code",
   "execution_count": 5,
   "id": "9eed4242",
   "metadata": {},
   "outputs": [
    {
     "data": {
      "text/plain": [
       "Unnamed: 0         32854\n",
       "date_name          32854\n",
       "local_team_id      32854\n",
       "local_team         32854\n",
       "local_result       32854\n",
       "visitor_result     32854\n",
       "visitor_team       32854\n",
       "visitor_team_id    32854\n",
       "dtype: int64"
      ]
     },
     "execution_count": 5,
     "metadata": {},
     "output_type": "execute_result"
    }
   ],
   "source": [
    "#Obtener la totalidad de registros por columnas.\n",
    "df.count()"
   ]
  },
  {
   "cell_type": "code",
   "execution_count": 6,
   "id": "29b279d8",
   "metadata": {},
   "outputs": [
    {
     "name": "stdout",
     "output_type": "stream",
     "text": [
      "<class 'pandas.core.frame.DataFrame'>\n",
      "RangeIndex: 32854 entries, 0 to 32853\n",
      "Data columns (total 8 columns):\n",
      " #   Column           Non-Null Count  Dtype \n",
      "---  ------           --------------  ----- \n",
      " 0   Unnamed: 0       32854 non-null  int64 \n",
      " 1   date_name        32854 non-null  object\n",
      " 2   local_team_id    32854 non-null  int64 \n",
      " 3   local_team       32854 non-null  object\n",
      " 4   local_result     32854 non-null  int64 \n",
      " 5   visitor_result   32854 non-null  int64 \n",
      " 6   visitor_team     32854 non-null  object\n",
      " 7   visitor_team_id  32854 non-null  int64 \n",
      "dtypes: int64(5), object(3)\n",
      "memory usage: 2.0+ MB\n"
     ]
    }
   ],
   "source": [
    "#Obtener más info.\n",
    "df.info()"
   ]
  },
  {
   "cell_type": "code",
   "execution_count": 7,
   "id": "f85f6bae",
   "metadata": {},
   "outputs": [
    {
     "data": {
      "text/plain": [
       "Unnamed: 0          int64\n",
       "date_name          object\n",
       "local_team_id       int64\n",
       "local_team         object\n",
       "local_result        int64\n",
       "visitor_result      int64\n",
       "visitor_team       object\n",
       "visitor_team_id     int64\n",
       "dtype: object"
      ]
     },
     "execution_count": 7,
     "metadata": {},
     "output_type": "execute_result"
    }
   ],
   "source": [
    "#Analizar el tipo de dato de cada columna.\n",
    "df.dtypes"
   ]
  },
  {
   "cell_type": "code",
   "execution_count": 8,
   "id": "5ea728e4",
   "metadata": {},
   "outputs": [
    {
     "data": {
      "text/plain": [
       "pandas.core.frame.DataFrame"
      ]
     },
     "execution_count": 8,
     "metadata": {},
     "output_type": "execute_result"
    }
   ],
   "source": [
    "#Obtener el tipo de estructura del dataset. Ej: si es o no un DataFrame.\n",
    "type(df)"
   ]
  },
  {
   "cell_type": "code",
   "execution_count": 9,
   "id": "1b18101d",
   "metadata": {},
   "outputs": [
    {
     "name": "stdout",
     "output_type": "stream",
     "text": [
      "Index(['Unnamed: 0', 'date_name', 'local_team_id', 'local_team',\n",
      "       'local_result', 'visitor_result', 'visitor_team', 'visitor_team_id'],\n",
      "      dtype='object')\n"
     ]
    }
   ],
   "source": [
    "#Listar los nombres de las columnas.\n",
    "print(df.columns)"
   ]
  }
 ],
 "metadata": {
  "kernelspec": {
   "display_name": "Python 3 (ipykernel)",
   "language": "python",
   "name": "python3"
  },
  "language_info": {
   "codemirror_mode": {
    "name": "ipython",
    "version": 3
   },
   "file_extension": ".py",
   "mimetype": "text/x-python",
   "name": "python",
   "nbconvert_exporter": "python",
   "pygments_lexer": "ipython3",
   "version": "3.9.13"
  }
 },
 "nbformat": 4,
 "nbformat_minor": 5
}
